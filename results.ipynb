{
  "cells": [
    {
      "cell_type": "code",
      "execution_count": null,
      "id": "8cb664c7",
      "metadata": {},
      "outputs": [],
      "source": [
        "import matplotlib.pyplot as plt\n",
        "import pandas as pd\n",
        "import numpy as np\n",
        "import seaborn as sns\n",
        "\n",
        "# Function to identify Pareto efficient points\n",
        "def is_pareto_efficient(costs):\n",
        "    is_efficient = np.ones(costs.shape[0], dtype=bool)\n",
        "    for i, c in enumerate(costs):\n",
        "        if is_efficient[i]:\n",
        "            is_efficient[i] = ~np.any((costs[:, 0] <= c[0]) & (costs[:, 1] <= c[1]) & \n",
        "                                      ((costs[:, 0] < c[0]) | (costs[:, 1] < c[1])))\n",
        "    return is_efficient\n",
        "\n",
        "# Function to plot Pareto frontier\n",
        "def plot_pareto(csv_file, output_file, title):\n",
        "\n",
        "    df = pd.read_csv(csv_file)\n",
        "    costs = df[['inference_time', 'val_mse']].values\n",
        "    costs[:, 0] *= 1000  # Convert inference time to ms\n",
        "    pareto_mask = is_pareto_efficient(costs)\n",
        "\n",
        "    # Set Seaborn style for professional look\n",
        "    sns.set_style(\"whitegrid\")\n",
        "    plt.figure(figsize=(7, 4), dpi=300)\n",
        "\n",
        "    # Plot non-optimal points\n",
        "    plt.scatter(costs[~pareto_mask, 0], costs[~pareto_mask, 1], \n",
        "                c='gray', alpha=0.3, label='Non-optimal')\n",
        "\n",
        "    # Plot Pareto frontier\n",
        "    pareto_points = costs[pareto_mask]\n",
        "    sorted_indices = np.argsort(pareto_points[:, 0])\n",
        "    pareto_points = pareto_points[sorted_indices]\n",
        "    plt.scatter(pareto_points[:, 0], pareto_points[:, 1], \n",
        "                c='#1f77b4', label='Pareto Frontier')\n",
        "    plt.plot(pareto_points[:, 0], pareto_points[:, 1], \n",
        "             color='#1f77b4', linestyle='-', linewidth=1.5)\n",
        "\n",
        "\n",
        "    # Customize axes\n",
        "    plt.xlabel('Inference Time (ms)', fontsize=10)\n",
        "    plt.ylabel('Test MSE', fontsize=10)\n",
        "    plt.title(title, fontsize=12, pad=10)\n",
        "\n",
        "\n",
        "    # # Adjust tick label size\n",
        "    # plt.tick_params(axis='both', labelsize=8)\n",
        "\n",
        "    # Place legend outside the plot\n",
        "    plt.legend(fontsize=8, loc='upper left')\n",
        "\n",
        "    # Save plot\n",
        "    plt.tight_layout()\n",
        "    plt.savefig(output_file, format='svg', bbox_inches='tight')\n",
        "    plt.close()\n",
        "\n",
        "# Generate plots\n",
        "plot_pareto(\"data/results/long_seq_experiment.csv\", \"data/results/pareto_long_seq.svg\", \"Pareto Frontier: Long Sequences\")\n",
        "plot_pareto(\"data/results/short_seq_experiment.csv\", \"data/results/pareto_short_seq.svg\", \"Pareto Frontier: Short Sequences\")"
      ]
    }
  ],
  "metadata": {
    "accelerator": "GPU",
    "colab": {
      "gpuType": "T4",
      "provenance": []
    },
    "kernelspec": {
      "display_name": ".venv",
      "language": "python",
      "name": "python3"
    },
    "language_info": {
      "codemirror_mode": {
        "name": "ipython",
        "version": 3
      },
      "file_extension": ".py",
      "mimetype": "text/x-python",
      "name": "python",
      "nbconvert_exporter": "python",
      "pygments_lexer": "ipython3",
      "version": "3.13.1"
    }
  },
  "nbformat": 4,
  "nbformat_minor": 5
}
