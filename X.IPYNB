{
 "cells": [
  {
   "cell_type": "code",
   "execution_count": null,
   "id": "22cb75bf",
   "metadata": {},
   "outputs": [
    {
     "name": "stdout",
     "output_type": "stream",
     "text": [
      "Using device: cuda:0\n"
     ]
    }
   ],
   "source": [
    "\n",
    "\n",
    "import yaml\n",
    "import torch\n",
    "import wandb\n",
    "from utils.tools import dotdict\n",
    "import random\n",
    "import numpy as np\n",
    "\n",
    "# Set seeds for reproducibility\n",
    "if torch.cuda.is_available():\n",
    "    torch.cuda.manual_seed(42)\n",
    "else:\n",
    "    torch.manual_seed(42)\n",
    "np.random.seed(42)\n",
    "random.seed(42)\n",
    "torch.backends.cudnn.benchmark = True\n",
    "\n",
    "def load_config(config_path):\n",
    "    \"\"\"Load configuration from YAML file.\"\"\"\n",
    "    try:\n",
    "        with open(config_path, 'r') as file:\n",
    "            config = yaml.safe_load(file)\n",
    "        # Convert nested dicts to dotdict for easy access\n",
    "        config = dotdict(config)\n",
    "        config.model = dotdict(config.model)\n",
    "        config.paths = dotdict(config.paths)\n",
    "        config.training = dotdict(config.training)\n",
    "        config.wandb = dotdict(config.wandb)\n",
    "        return config\n",
    "    except FileNotFoundError:\n",
    "        print(f\"Error: Config file not found at {config_path}\")\n",
    "        raise\n",
    "    except yaml.YAMLError:\n",
    "        print(f\"Error: Unable to parse YAML file at {config_path}\")\n",
    "        raise\n",
    "    except Exception as e:\n",
    "        print(f\"Unexpected error loading config: {e}\")\n",
    "        raise\n",
    "\n",
    "base_config = load_config(\"config/config.yaml\")\n",
    "\n",
    "# Device handling\n",
    "device = torch.device(f\"cuda:{base_config.training.gpu}\" if base_config.training.use_gpu and torch.cuda.is_available() else \"cpu\")\n",
    "print(f\"Using device: {device}\")\n",
    "\n",
    "# Combine model, paths, and training args for convenience\n",
    "args = dotdict({\n",
    "    **base_config.model,\n",
    "    **base_config.paths,\n",
    "    **base_config.training\n",
    "})\n",
    "    "
   ]
  },
  {
   "cell_type": "code",
   "execution_count": 4,
   "id": "d33aec67",
   "metadata": {},
   "outputs": [],
   "source": [
    "import os\n",
    "checkpoint_path = os.path.join(args.checkpoints, args.checkpoint_path, \"checkpoint.pth\")\n"
   ]
  },
  {
   "cell_type": "code",
   "execution_count": null,
   "id": "91ef5b8b",
   "metadata": {},
   "outputs": [
    {
     "name": "stdout",
     "output_type": "stream",
     "text": [
      "Loading checkpoint from ./informer_checkpoints\\informer_ETTh1_ftM_sl336_ll336_pl720_dm512_nh8_el2_dl1_df2048_atprob_fc5_ebtimeF_dtTrue_mxTrue_Exp_4\\checkpoint.pth\n"
     ]
    },
    {
     "name": "stderr",
     "output_type": "stream",
     "text": [
      "<>:2: SyntaxWarning: invalid escape sequence '\\i'\n",
      "<>:2: SyntaxWarning: invalid escape sequence '\\i'\n",
      "C:\\Users\\innoc\\AppData\\Local\\Temp\\ipykernel_18052\\2950626275.py:2: SyntaxWarning: invalid escape sequence '\\i'\n",
      "  if not os.path.exists(\"informer_checkpoints\\informer_ETTh1_ftM_sl336_ll336_pl720_dm512_nh8_el2_dl1_df2048_atprob_fc5_ebtimeF_dtTrue_mxTrue_Exp_4\\checkpoint.pth\"):\n"
     ]
    },
    {
     "ename": "FileNotFoundError",
     "evalue": "Checkpoint file not found at ./informer_checkpoints\\informer_ETTh1_ftM_sl336_ll336_pl720_dm512_nh8_el2_dl1_df2048_atprob_fc5_ebtimeF_dtTrue_mxTrue_Exp_4\\checkpoint.pth",
     "output_type": "error",
     "traceback": [
      "\u001b[31m---------------------------------------------------------------------------\u001b[39m",
      "\u001b[31mFileNotFoundError\u001b[39m                         Traceback (most recent call last)",
      "\u001b[36mCell\u001b[39m\u001b[36m \u001b[39m\u001b[32mIn[28]\u001b[39m\u001b[32m, line 3\u001b[39m\n\u001b[32m      1\u001b[39m \u001b[38;5;28mprint\u001b[39m(\u001b[33mf\u001b[39m\u001b[33m\"\u001b[39m\u001b[33mLoading checkpoint from \u001b[39m\u001b[38;5;132;01m{\u001b[39;00mcheckpoint_path\u001b[38;5;132;01m}\u001b[39;00m\u001b[33m\"\u001b[39m)\n\u001b[32m      2\u001b[39m \u001b[38;5;28;01mif\u001b[39;00m \u001b[38;5;129;01mnot\u001b[39;00m os.path.exists(\u001b[33m\"\u001b[39m\u001b[33minformer_checkpoints\u001b[39m\u001b[33m\\\u001b[39m\u001b[33minformer_ETTh1_ftM_sl336_ll336_pl720_dm512_nh8_el2_dl1_df2048_atprob_fc5_ebtimeF_dtTrue_mxTrue_Exp_4\u001b[39m\u001b[33m\\\u001b[39m\u001b[33mcheckpoint.pth\u001b[39m\u001b[33m\"\u001b[39m):\n\u001b[32m----> \u001b[39m\u001b[32m3\u001b[39m     \u001b[38;5;28;01mraise\u001b[39;00m \u001b[38;5;167;01mFileNotFoundError\u001b[39;00m(\u001b[33mf\u001b[39m\u001b[33m\"\u001b[39m\u001b[33mCheckpoint file not found at \u001b[39m\u001b[38;5;132;01m{\u001b[39;00mcheckpoint_path\u001b[38;5;132;01m}\u001b[39;00m\u001b[33m\"\u001b[39m)\n",
      "\u001b[31mFileNotFoundError\u001b[39m: Checkpoint file not found at ./informer_checkpoints\\informer_ETTh1_ftM_sl336_ll336_pl720_dm512_nh8_el2_dl1_df2048_atprob_fc5_ebtimeF_dtTrue_mxTrue_Exp_4\\checkpoint.pth"
     ]
    }
   ],
   "source": [
    "print(f\"Loading checkpoint from {checkpoint_path}\")\n",
    "if not os.path.exists(\"informer_checkpoints\\informer_ETTh1_ftM_sl336_ll336_pl720_dm512_nh8_el2_dl1_df2048_atprob_fc5_ebtimeF_dtTrue_mxTrue_Exp_4\\checkpoint.pth\"):\n",
    "    raise FileNotFoundError(f\"Checkpoint file not found at {checkpoint_path}\")"
   ]
  }
 ],
 "metadata": {
  "kernelspec": {
   "display_name": ".venv",
   "language": "python",
   "name": "python3"
  },
  "language_info": {
   "codemirror_mode": {
    "name": "ipython",
    "version": 3
   },
   "file_extension": ".py",
   "mimetype": "text/x-python",
   "name": "python",
   "nbconvert_exporter": "python",
   "pygments_lexer": "ipython3",
   "version": "3.13.1"
  }
 },
 "nbformat": 4,
 "nbformat_minor": 5
}
