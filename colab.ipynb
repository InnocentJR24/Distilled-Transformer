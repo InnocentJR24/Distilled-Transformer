{
 "cells": [
  {
   "cell_type": "code",
   "execution_count": null,
   "id": "d2aa7198",
   "metadata": {},
   "outputs": [],
   "source": [
    "!pip install -r requirements.txt"
   ]
  }
 ],
 "metadata": {
  "language_info": {
   "name": "python"
  }
 },
 "nbformat": 4,
 "nbformat_minor": 5
}
